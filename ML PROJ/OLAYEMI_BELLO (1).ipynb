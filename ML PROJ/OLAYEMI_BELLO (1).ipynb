{
 "cells": [
  {
   "cell_type": "code",
   "execution_count": 1,
   "id": "93e70321",
   "metadata": {},
   "outputs": [],
   "source": [
    "import pandas \n",
    "# Read the CSV file\n",
    "bankrupt = pandas.read_csv(\"bankrupt.txt\", sep=\",\")\n"
   ]
  },
  {
   "cell_type": "code",
   "execution_count": 2,
   "id": "d4ce3933",
   "metadata": {},
   "outputs": [
    {
     "name": "stdout",
     "output_type": "stream",
     "text": [
      "Current Working Directory: C:\\Users\\User\n"
     ]
    }
   ],
   "source": [
    "import os\n",
    "print(\"Current Working Directory:\", os.getcwd())"
   ]
  },
  {
   "cell_type": "code",
   "execution_count": 3,
   "id": "09f55068",
   "metadata": {},
   "outputs": [
    {
     "name": "stdout",
     "output_type": "stream",
     "text": [
      "Number of Observations in the dataset: 6819\n",
      "Nmber of Variables in the dataset: 96\n"
     ]
    }
   ],
   "source": [
    "# Using the shape attribute to find the number of observations and variables\n",
    "num_rows, num_columns = bankrupt.shape\n",
    "\n",
    "print(\"Number of Observations in the dataset:\",num_rows)\n",
    "print(\"Nmber of Variables in the dataset:\", num_columns)"
   ]
  },
  {
   "cell_type": "markdown",
   "id": "382d77d3-1706-4d24-95c7-af6f1db0accf",
   "metadata": {},
   "source": [
    "# 2.1.2 Graded Question.\n",
    "How many observations and variables are there? \n",
    "There are 6819 Observations and 96 Variables."
   ]
  },
  {
   "cell_type": "code",
   "execution_count": 4,
   "id": "b8d15102",
   "metadata": {},
   "outputs": [
    {
     "name": "stdout",
     "output_type": "stream",
     "text": [
      "\n",
      "Descriptive  Statistics:\n"
     ]
    },
    {
     "data": {
      "text/html": [
       "<div>\n",
       "<style scoped>\n",
       "    .dataframe tbody tr th:only-of-type {\n",
       "        vertical-align: middle;\n",
       "    }\n",
       "\n",
       "    .dataframe tbody tr th {\n",
       "        vertical-align: top;\n",
       "    }\n",
       "\n",
       "    .dataframe thead th {\n",
       "        text-align: right;\n",
       "    }\n",
       "</style>\n",
       "<table border=\"1\" class=\"dataframe\">\n",
       "  <thead>\n",
       "    <tr style=\"text-align: right;\">\n",
       "      <th></th>\n",
       "      <th>Bankrupt?</th>\n",
       "      <th>ROA(C) before interest and depreciation before interest</th>\n",
       "      <th>ROA(A) before interest and % after tax</th>\n",
       "      <th>ROA(B) before interest and depreciation after tax</th>\n",
       "      <th>Operating Gross Margin</th>\n",
       "      <th>Realized Sales Gross Margin</th>\n",
       "      <th>Operating Profit Rate</th>\n",
       "      <th>Pre-tax net Interest Rate</th>\n",
       "      <th>After-tax net Interest Rate</th>\n",
       "      <th>Non-industry income and expenditure/revenue</th>\n",
       "      <th>...</th>\n",
       "      <th>Net Income to Total Assets</th>\n",
       "      <th>Total assets to GNP price</th>\n",
       "      <th>No-credit Interval</th>\n",
       "      <th>Gross Profit to Sales</th>\n",
       "      <th>Net Income to Stockholder s Equity</th>\n",
       "      <th>Liability to Equity</th>\n",
       "      <th>Degree of Financial Leverage (DFL)</th>\n",
       "      <th>Interest Coverage Ratio (Interest expense to EBIT)</th>\n",
       "      <th>Net Income Flag</th>\n",
       "      <th>Equity to Liability</th>\n",
       "    </tr>\n",
       "  </thead>\n",
       "  <tbody>\n",
       "    <tr>\n",
       "      <th>count</th>\n",
       "      <td>6819.000000</td>\n",
       "      <td>6819.000000</td>\n",
       "      <td>6819.000000</td>\n",
       "      <td>6819.000000</td>\n",
       "      <td>6819.000000</td>\n",
       "      <td>6819.000000</td>\n",
       "      <td>6819.000000</td>\n",
       "      <td>6819.000000</td>\n",
       "      <td>6819.000000</td>\n",
       "      <td>6819.000000</td>\n",
       "      <td>...</td>\n",
       "      <td>6819.000000</td>\n",
       "      <td>6.819000e+03</td>\n",
       "      <td>6819.000000</td>\n",
       "      <td>6819.000000</td>\n",
       "      <td>6819.000000</td>\n",
       "      <td>6819.000000</td>\n",
       "      <td>6819.000000</td>\n",
       "      <td>6819.000000</td>\n",
       "      <td>6819.0</td>\n",
       "      <td>6819.000000</td>\n",
       "    </tr>\n",
       "    <tr>\n",
       "      <th>mean</th>\n",
       "      <td>0.032263</td>\n",
       "      <td>0.505180</td>\n",
       "      <td>0.558625</td>\n",
       "      <td>0.553589</td>\n",
       "      <td>0.607948</td>\n",
       "      <td>0.607929</td>\n",
       "      <td>0.998755</td>\n",
       "      <td>0.797190</td>\n",
       "      <td>0.809084</td>\n",
       "      <td>0.303623</td>\n",
       "      <td>...</td>\n",
       "      <td>0.807760</td>\n",
       "      <td>1.862942e+07</td>\n",
       "      <td>0.623915</td>\n",
       "      <td>0.607946</td>\n",
       "      <td>0.840402</td>\n",
       "      <td>0.280365</td>\n",
       "      <td>0.027541</td>\n",
       "      <td>0.565358</td>\n",
       "      <td>1.0</td>\n",
       "      <td>0.047578</td>\n",
       "    </tr>\n",
       "    <tr>\n",
       "      <th>std</th>\n",
       "      <td>0.176710</td>\n",
       "      <td>0.060686</td>\n",
       "      <td>0.065620</td>\n",
       "      <td>0.061595</td>\n",
       "      <td>0.016934</td>\n",
       "      <td>0.016916</td>\n",
       "      <td>0.013010</td>\n",
       "      <td>0.012869</td>\n",
       "      <td>0.013601</td>\n",
       "      <td>0.011163</td>\n",
       "      <td>...</td>\n",
       "      <td>0.040332</td>\n",
       "      <td>3.764501e+08</td>\n",
       "      <td>0.012290</td>\n",
       "      <td>0.016934</td>\n",
       "      <td>0.014523</td>\n",
       "      <td>0.014463</td>\n",
       "      <td>0.015668</td>\n",
       "      <td>0.013214</td>\n",
       "      <td>0.0</td>\n",
       "      <td>0.050014</td>\n",
       "    </tr>\n",
       "    <tr>\n",
       "      <th>min</th>\n",
       "      <td>0.000000</td>\n",
       "      <td>0.000000</td>\n",
       "      <td>0.000000</td>\n",
       "      <td>0.000000</td>\n",
       "      <td>0.000000</td>\n",
       "      <td>0.000000</td>\n",
       "      <td>0.000000</td>\n",
       "      <td>0.000000</td>\n",
       "      <td>0.000000</td>\n",
       "      <td>0.000000</td>\n",
       "      <td>...</td>\n",
       "      <td>0.000000</td>\n",
       "      <td>0.000000e+00</td>\n",
       "      <td>0.000000</td>\n",
       "      <td>0.000000</td>\n",
       "      <td>0.000000</td>\n",
       "      <td>0.000000</td>\n",
       "      <td>0.000000</td>\n",
       "      <td>0.000000</td>\n",
       "      <td>1.0</td>\n",
       "      <td>0.000000</td>\n",
       "    </tr>\n",
       "    <tr>\n",
       "      <th>25%</th>\n",
       "      <td>0.000000</td>\n",
       "      <td>0.476527</td>\n",
       "      <td>0.535543</td>\n",
       "      <td>0.527277</td>\n",
       "      <td>0.600445</td>\n",
       "      <td>0.600434</td>\n",
       "      <td>0.998969</td>\n",
       "      <td>0.797386</td>\n",
       "      <td>0.809312</td>\n",
       "      <td>0.303466</td>\n",
       "      <td>...</td>\n",
       "      <td>0.796750</td>\n",
       "      <td>9.036205e-04</td>\n",
       "      <td>0.623636</td>\n",
       "      <td>0.600443</td>\n",
       "      <td>0.840115</td>\n",
       "      <td>0.276944</td>\n",
       "      <td>0.026791</td>\n",
       "      <td>0.565158</td>\n",
       "      <td>1.0</td>\n",
       "      <td>0.024477</td>\n",
       "    </tr>\n",
       "    <tr>\n",
       "      <th>50%</th>\n",
       "      <td>0.000000</td>\n",
       "      <td>0.502706</td>\n",
       "      <td>0.559802</td>\n",
       "      <td>0.552278</td>\n",
       "      <td>0.605997</td>\n",
       "      <td>0.605976</td>\n",
       "      <td>0.999022</td>\n",
       "      <td>0.797464</td>\n",
       "      <td>0.809375</td>\n",
       "      <td>0.303525</td>\n",
       "      <td>...</td>\n",
       "      <td>0.810619</td>\n",
       "      <td>2.085213e-03</td>\n",
       "      <td>0.623879</td>\n",
       "      <td>0.605998</td>\n",
       "      <td>0.841179</td>\n",
       "      <td>0.278778</td>\n",
       "      <td>0.026808</td>\n",
       "      <td>0.565252</td>\n",
       "      <td>1.0</td>\n",
       "      <td>0.033798</td>\n",
       "    </tr>\n",
       "    <tr>\n",
       "      <th>75%</th>\n",
       "      <td>0.000000</td>\n",
       "      <td>0.535563</td>\n",
       "      <td>0.589157</td>\n",
       "      <td>0.584105</td>\n",
       "      <td>0.613914</td>\n",
       "      <td>0.613842</td>\n",
       "      <td>0.999095</td>\n",
       "      <td>0.797579</td>\n",
       "      <td>0.809469</td>\n",
       "      <td>0.303585</td>\n",
       "      <td>...</td>\n",
       "      <td>0.826455</td>\n",
       "      <td>5.269777e-03</td>\n",
       "      <td>0.624168</td>\n",
       "      <td>0.613913</td>\n",
       "      <td>0.842357</td>\n",
       "      <td>0.281449</td>\n",
       "      <td>0.026913</td>\n",
       "      <td>0.565725</td>\n",
       "      <td>1.0</td>\n",
       "      <td>0.052838</td>\n",
       "    </tr>\n",
       "    <tr>\n",
       "      <th>max</th>\n",
       "      <td>1.000000</td>\n",
       "      <td>1.000000</td>\n",
       "      <td>1.000000</td>\n",
       "      <td>1.000000</td>\n",
       "      <td>1.000000</td>\n",
       "      <td>1.000000</td>\n",
       "      <td>1.000000</td>\n",
       "      <td>1.000000</td>\n",
       "      <td>1.000000</td>\n",
       "      <td>1.000000</td>\n",
       "      <td>...</td>\n",
       "      <td>1.000000</td>\n",
       "      <td>9.820000e+09</td>\n",
       "      <td>1.000000</td>\n",
       "      <td>1.000000</td>\n",
       "      <td>1.000000</td>\n",
       "      <td>1.000000</td>\n",
       "      <td>1.000000</td>\n",
       "      <td>1.000000</td>\n",
       "      <td>1.0</td>\n",
       "      <td>1.000000</td>\n",
       "    </tr>\n",
       "  </tbody>\n",
       "</table>\n",
       "<p>8 rows × 96 columns</p>\n",
       "</div>"
      ],
      "text/plain": [
       "         Bankrupt?   ROA(C) before interest and depreciation before interest  \\\n",
       "count  6819.000000                                        6819.000000          \n",
       "mean      0.032263                                           0.505180          \n",
       "std       0.176710                                           0.060686          \n",
       "min       0.000000                                           0.000000          \n",
       "25%       0.000000                                           0.476527          \n",
       "50%       0.000000                                           0.502706          \n",
       "75%       0.000000                                           0.535563          \n",
       "max       1.000000                                           1.000000          \n",
       "\n",
       "        ROA(A) before interest and % after tax  \\\n",
       "count                              6819.000000   \n",
       "mean                                  0.558625   \n",
       "std                                   0.065620   \n",
       "min                                   0.000000   \n",
       "25%                                   0.535543   \n",
       "50%                                   0.559802   \n",
       "75%                                   0.589157   \n",
       "max                                   1.000000   \n",
       "\n",
       "        ROA(B) before interest and depreciation after tax  \\\n",
       "count                                        6819.000000    \n",
       "mean                                            0.553589    \n",
       "std                                             0.061595    \n",
       "min                                             0.000000    \n",
       "25%                                             0.527277    \n",
       "50%                                             0.552278    \n",
       "75%                                             0.584105    \n",
       "max                                             1.000000    \n",
       "\n",
       "        Operating Gross Margin   Realized Sales Gross Margin  \\\n",
       "count              6819.000000                   6819.000000   \n",
       "mean                  0.607948                      0.607929   \n",
       "std                   0.016934                      0.016916   \n",
       "min                   0.000000                      0.000000   \n",
       "25%                   0.600445                      0.600434   \n",
       "50%                   0.605997                      0.605976   \n",
       "75%                   0.613914                      0.613842   \n",
       "max                   1.000000                      1.000000   \n",
       "\n",
       "        Operating Profit Rate   Pre-tax net Interest Rate  \\\n",
       "count             6819.000000                 6819.000000   \n",
       "mean                 0.998755                    0.797190   \n",
       "std                  0.013010                    0.012869   \n",
       "min                  0.000000                    0.000000   \n",
       "25%                  0.998969                    0.797386   \n",
       "50%                  0.999022                    0.797464   \n",
       "75%                  0.999095                    0.797579   \n",
       "max                  1.000000                    1.000000   \n",
       "\n",
       "        After-tax net Interest Rate  \\\n",
       "count                   6819.000000   \n",
       "mean                       0.809084   \n",
       "std                        0.013601   \n",
       "min                        0.000000   \n",
       "25%                        0.809312   \n",
       "50%                        0.809375   \n",
       "75%                        0.809469   \n",
       "max                        1.000000   \n",
       "\n",
       "        Non-industry income and expenditure/revenue  ...  \\\n",
       "count                                   6819.000000  ...   \n",
       "mean                                       0.303623  ...   \n",
       "std                                        0.011163  ...   \n",
       "min                                        0.000000  ...   \n",
       "25%                                        0.303466  ...   \n",
       "50%                                        0.303525  ...   \n",
       "75%                                        0.303585  ...   \n",
       "max                                        1.000000  ...   \n",
       "\n",
       "        Net Income to Total Assets   Total assets to GNP price  \\\n",
       "count                  6819.000000                6.819000e+03   \n",
       "mean                      0.807760                1.862942e+07   \n",
       "std                       0.040332                3.764501e+08   \n",
       "min                       0.000000                0.000000e+00   \n",
       "25%                       0.796750                9.036205e-04   \n",
       "50%                       0.810619                2.085213e-03   \n",
       "75%                       0.826455                5.269777e-03   \n",
       "max                       1.000000                9.820000e+09   \n",
       "\n",
       "        No-credit Interval   Gross Profit to Sales  \\\n",
       "count          6819.000000             6819.000000   \n",
       "mean              0.623915                0.607946   \n",
       "std               0.012290                0.016934   \n",
       "min               0.000000                0.000000   \n",
       "25%               0.623636                0.600443   \n",
       "50%               0.623879                0.605998   \n",
       "75%               0.624168                0.613913   \n",
       "max               1.000000                1.000000   \n",
       "\n",
       "        Net Income to Stockholder s Equity   Liability to Equity  \\\n",
       "count                          6819.000000           6819.000000   \n",
       "mean                              0.840402              0.280365   \n",
       "std                               0.014523              0.014463   \n",
       "min                               0.000000              0.000000   \n",
       "25%                               0.840115              0.276944   \n",
       "50%                               0.841179              0.278778   \n",
       "75%                               0.842357              0.281449   \n",
       "max                               1.000000              1.000000   \n",
       "\n",
       "        Degree of Financial Leverage (DFL)  \\\n",
       "count                          6819.000000   \n",
       "mean                              0.027541   \n",
       "std                               0.015668   \n",
       "min                               0.000000   \n",
       "25%                               0.026791   \n",
       "50%                               0.026808   \n",
       "75%                               0.026913   \n",
       "max                               1.000000   \n",
       "\n",
       "        Interest Coverage Ratio (Interest expense to EBIT)   Net Income Flag  \\\n",
       "count                                        6819.000000              6819.0   \n",
       "mean                                            0.565358                 1.0   \n",
       "std                                             0.013214                 0.0   \n",
       "min                                             0.000000                 1.0   \n",
       "25%                                             0.565158                 1.0   \n",
       "50%                                             0.565252                 1.0   \n",
       "75%                                             0.565725                 1.0   \n",
       "max                                             1.000000                 1.0   \n",
       "\n",
       "        Equity to Liability  \n",
       "count           6819.000000  \n",
       "mean               0.047578  \n",
       "std                0.050014  \n",
       "min                0.000000  \n",
       "25%                0.024477  \n",
       "50%                0.033798  \n",
       "75%                0.052838  \n",
       "max                1.000000  \n",
       "\n",
       "[8 rows x 96 columns]"
      ]
     },
     "execution_count": 4,
     "metadata": {},
     "output_type": "execute_result"
    }
   ],
   "source": [
    "# Calculate descriptive statistics using describe()\n",
    "print(\"\\nDescriptive  Statistics:\")\n",
    "bankrupt.describe()"
   ]
  },
  {
   "cell_type": "markdown",
   "id": "db604fb7-2e81-4677-b0d4-b8dabe78fd38",
   "metadata": {},
   "source": [
    "# 2.1.3 Graded Question.\n",
    "Comments on the results.\n",
    "\n",
    "For each variable (input/feature) there are 6819 observations which are depicted above in the count row.\n",
    "The mean of the observations per variable in the dataset is shown next, being the weighted average obtained. \n",
    "The standard deviation (std) shows how dispersed the data is from the mean and it is very instrumental in telling us about the dataset. \n",
    "\n",
    "It is observed that there is low deviation from the mean across some features except \"Total assets to GNP price\" which is very high followed by ROA(C), ROA(B) ROA(A), \"Net Income to Total Asset\" which indicates a broader or dispersed distribution within these features.\n",
    "\n",
    "Additionally, the minimum value of each observation for each variable (i.e. in each column is shown on the min row likewise the maximum value is in the max row (the last row in the description (i.e. max).\n",
    "\n",
    "The 25% represents the 25th percentile of each column, that is, the value at which 25% of the values in this column lie below. \n",
    "The 50% represents the 50th percentile which is the median, which cuts the data in each column of the dataset into half. \n",
    "The 75% presents the 75th percentile, which means 75% of the values lie above this particular value. \n",
    "For example, using the “ROA(C)” variable column, the 75% is 0.535563, which means ¾ of the values in this column lie above 0.535563.\n",
    "\n",
    "    \n",
    "Do you think it is necessary to standardize the variables before performing classi\f",
    "cation?\n",
    "Based on the statistics obtained in this case, the features have different scales, and the standard deviations vary. For example, \"ROA(C) before interest and depreciation before interest\" has a much smaller standard deviation compared to \"Total assets to GNP price.\" This indicates that the features have varying scales.\n",
    "\n",
    "Examining the \"min\" and \"max\" values for each feature, Some features, like \"Total assets to GNP price\" have a wide range of values, including potential outliers that could affect the performance of some classification.\n",
    "\n",
    "Features like \"Net Income to Total Asset\", \"Total assets to GNP price\" and \"Operating Profit Rate\" have different mean and standard deviation values, indicating potentially different distributions.\n",
    "\n",
    "Conclusion:\n",
    "\n",
    "Based on these observations, it is concluded that the features in the dataset have varying scales, and there are features with a wide range of values, and different distributions (mean, and standard deviation). Therefore, it is necessary to standardize the variables before performing classification."
   ]
  },
  {
   "cell_type": "code",
   "execution_count": 5,
   "id": "160b5053",
   "metadata": {},
   "outputs": [
    {
     "name": "stdout",
     "output_type": "stream",
     "text": [
      "is_balanced: False\n",
      "Number of companies that went bankrupt: 220\n",
      "Percentage of companies that went bankrupt: 3.23%\n",
      "Is the dataset balanced? No\n"
     ]
    }
   ],
   "source": [
    "# establish the target variable is named 'Bankrupt?'\n",
    "target_variable = 'Bankrupt?'\n",
    "\n",
    "# Use value_counts() to count the unique values in the target variable\n",
    "value_counts = bankrupt[target_variable].value_counts()\n",
    "\n",
    "#print(value_counts)\n",
    "\n",
    "# Get the number of companies that went bankrupt (having that 'Bankrupt' is encoded as 1)\n",
    "num_bankrupt = value_counts.get(1, 0)  # Get the count of 1's (companies that went bankrupt)\n",
    "\n",
    "# Calculate the percentage of companies that went bankrupt\n",
    "percentage_bankrupt = (num_bankrupt / len(bankrupt)) * 100\n",
    "\n",
    "# Check if the dataset is balanced\n",
    "is_balanced = value_counts.min() / value_counts.max() > 0.5  # Adjust the threshold as needed\n",
    "\n",
    "# Print the results\n",
    "print(f\"is_balanced: {is_balanced}\")\n",
    "print(f\"Number of companies that went bankrupt: {num_bankrupt}\")\n",
    "print(f\"Percentage of companies that went bankrupt: {percentage_bankrupt:.2f}%\")\n",
    "print(f\"Is the dataset balanced? {'Yes' if is_balanced else 'No'}\")"
   ]
  },
  {
   "cell_type": "markdown",
   "id": "02ebce77-3cb3-4764-8311-5102dc1918ab",
   "metadata": {},
   "source": [
    "# 2.1.4 [Graded question] \n",
    "\n",
    "Describe the target variable.\n",
    "The target variable (Y) is a qualitative variable with two classes predicting whether a company will be bankrupt or not.\n",
    "\n",
    "What is the number and percentage of companies that went bankrupt? \n",
    "3.23%\n",
    "\n",
    "Is the data set balanced? No, it is not balanced based on the findings in answer to Question 2.1.3"
   ]
  },
  {
   "cell_type": "code",
   "execution_count": 6,
   "id": "137d365a",
   "metadata": {},
   "outputs": [
    {
     "name": "stdout",
     "output_type": "stream",
     "text": [
      "Number of Observations in x Train Data: 5455\n",
      "Number of Observations in x Test Data: 1364\n",
      "Number of Observations in y Train Data: 5455\n",
      "Number of Observations in y Test Data: 1364\n"
     ]
    }
   ],
   "source": [
    "\n",
    "import pandas as pd\n",
    "from sklearn.preprocessing import StandardScaler\n",
    "\n",
    "scaler_x = StandardScaler()\n",
    "scaler_y = StandardScaler()\n",
    "\n",
    "# Import the train and test datasets\n",
    "x_train = pd.read_csv(\"x_train.csv\", index_col=0)\n",
    "x_test = pd.read_csv(\"x_test.csv\", index_col=0)\n",
    "y_train = pd.read_csv(\"y_train.csv\", index_col=0)\n",
    "y_test = pd.read_csv(\"y_test.csv\", index_col=0)\n",
    "\n",
    "# Display the number of observations in each dataset\n",
    "num_observations_train_x = x_train.shape[0]\n",
    "num_observations_test_x = x_test.shape[0]\n",
    "num_observations_train_y = y_train.shape[0]\n",
    "num_observations_test_y = y_test.shape[0]\n",
    "\n",
    "print(\"Number of Observations in x Train Data:\", num_observations_train_x)\n",
    "print(\"Number of Observations in x Test Data:\", num_observations_test_x)\n",
    "print(\"Number of Observations in y Train Data:\", num_observations_train_y)\n",
    "print(\"Number of Observations in y Test Data:\", num_observations_test_y)\n",
    "\n"
   ]
  },
  {
   "cell_type": "markdown",
   "id": "251b4057-3591-4b81-8c58-561186255fd2",
   "metadata": {},
   "source": [
    "# 2.1.5A [graded question] \n",
    "\n",
    "How many observations are in each data set? \n",
    "Number of Observations in x Train Data: 5455\r\n",
    "Number of Observations in x Test Data: 1364\r\n",
    "Number of Observations in y Train Data: 5455\r\n",
    "Number of Observations in y Test Data: 1ts ?"
   ]
  },
  {
   "cell_type": "code",
   "execution_count": 7,
   "id": "554d2de6-52a7-49d4-87fe-3737f8fab4c6",
   "metadata": {},
   "outputs": [
    {
     "name": "stdout",
     "output_type": "stream",
     "text": [
      "\n",
      "Distribution of Classes in y train Data:\n",
      "Bankrupt\n",
      "0    5281\n",
      "1     174\n",
      "Name: count, dtype: int64\n",
      "\n",
      "Distribution of Classes in y test Data:\n",
      "Bankrupt\n",
      "0    1318\n",
      "1      46\n",
      "Name: count, dtype: int64\n"
     ]
    }
   ],
   "source": [
    "# Check the distribution of classes in the target variable in both datasets\n",
    "target_variable_train = \"Bankrupt\"\n",
    "target_variable_test = \"Bankrupt\"\n",
    "\n",
    "bankrupt_counts_train = y_train[target_variable_train].value_counts()\n",
    "bankrupt_counts_test = y_test[target_variable_test].value_counts()\n",
    "\n",
    "print(\"\\nDistribution of Classes in y train Data:\")\n",
    "print(bankrupt_counts_train)\n",
    "\n",
    "print(\"\\nDistribution of Classes in y test Data:\")\n",
    "print(bankrupt_counts_test)\n"
   ]
  },
  {
   "cell_type": "code",
   "execution_count": 8,
   "id": "862296e1",
   "metadata": {},
   "outputs": [
    {
     "name": "stdout",
     "output_type": "stream",
     "text": [
      "\n",
      "Is the Distribution of Classes Similar in Both Data Sets? False\n",
      "\n",
      "The propotion of classes in y train is: Bankrupt\n",
      "0    0.968103\n",
      "1    0.031897\n",
      "Name: count, dtype: float64\n",
      "\n",
      "The propotion of classes in y test is: Bankrupt\n",
      "0    0.966276\n",
      "1    0.033724\n",
      "Name: count, dtype: float64\n"
     ]
    }
   ],
   "source": [
    "# Calculate proportions in both datasets\n",
    "proportions_train = bankrupt_counts_train / num_observations_train_y\n",
    "proportions_test = bankrupt_counts_test / num_observations_test_y\n",
    "\n",
    "# Check if the distribution is similar\n",
    "is_distribution_similar = proportions_train.equals(proportions_test)\n",
    "\n",
    "print(\"\\nIs the Distribution of Classes Similar in Both Data Sets?\", is_distribution_similar)\n",
    "\n",
    "#ADDED CODE\n",
    "print(\"\\nThe propotion of classes in y train is:\",proportions_train)\n",
    "print(\"\\nThe propotion of classes in y test is:\",proportions_test)"
   ]
  },
  {
   "cell_type": "markdown",
   "id": "28394830-463e-476f-95f6-3a419977315f",
   "metadata": {},
   "source": [
    "# 2.1.5B [Graded Question] \n",
    "\n",
    "Is the distribution of the classes of the target variable similar in both data sets?\n",
    "\n",
    "No the distribution of the classes are not the same"
   ]
  },
  {
   "cell_type": "code",
   "execution_count": 9,
   "id": "f9fb2013-4d9e-4327-ae51-ecba7b0cee4e",
   "metadata": {},
   "outputs": [],
   "source": [
    "#EDITED\n",
    "\n",
    "#import pandas as pd"
   ]
  },
  {
   "cell_type": "code",
   "execution_count": 10,
   "id": "248c50c3-05f0-411c-8190-2fd6e67276eb",
   "metadata": {},
   "outputs": [],
   "source": [
    "# Concatenate x_train and y_train\n",
    "bankrupt_train = pd.concat([x_train, y_train], axis=1)"
   ]
  },
  {
   "cell_type": "code",
   "execution_count": 11,
   "id": "c3281161-2a15-4132-9222-55bf216bc9e3",
   "metadata": {},
   "outputs": [
    {
     "data": {
      "text/plain": [
       "(5455, 13)"
      ]
     },
     "execution_count": 11,
     "metadata": {},
     "output_type": "execute_result"
    }
   ],
   "source": [
    "bankrupt_train.shape"
   ]
  },
  {
   "cell_type": "code",
   "execution_count": 12,
   "id": "711254fe-cd61-42d3-8b16-b4b066b1d01f",
   "metadata": {},
   "outputs": [],
   "source": [
    "x_train = scaler_x.fit_transform(x_train)\n",
    "y_train = scaler_y.fit_transform(y_train)\n",
    "\n",
    "x_test = scaler_x.transform(x_test)\n",
    "y_test = scaler_y.transform(y_test)"
   ]
  },
  {
   "cell_type": "code",
   "execution_count": 13,
   "id": "8758198a",
   "metadata": {},
   "outputs": [
    {
     "name": "stdout",
     "output_type": "stream",
     "text": [
      "                 Generalized Linear Model Regression Results                  \n",
      "==============================================================================\n",
      "Dep. Variable:               Bankrupt   No. Observations:                 5455\n",
      "Model:                            GLM   Df Residuals:                     5443\n",
      "Model Family:                Binomial   Df Model:                           11\n",
      "Link Function:                  Logit   Scale:                          1.0000\n",
      "Method:                          IRLS   Log-Likelihood:                -513.79\n",
      "Date:                Mon, 16 Oct 2023   Deviance:                       1027.6\n",
      "Time:                        01:20:45   Pearson chi2:                 4.44e+06\n",
      "No. Iterations:                    10   Pseudo R-squ. (CS):            0.08988\n",
      "Covariance Type:            nonrobust                                         \n",
      "==============================================================================\n",
      "                 coef    std err          z      P>|z|      [0.025      0.975]\n",
      "------------------------------------------------------------------------------\n",
      "Intercept      6.0644      3.655      1.659      0.097      -1.099      13.228\n",
      "ROAC         -11.3247      7.788     -1.454      0.146     -26.589       3.940\n",
      "ROAA          -1.5478      6.154     -0.252      0.801     -13.609      10.513\n",
      "ROAB          -3.5475      8.761     -0.405      0.686     -20.718      13.623\n",
      "TRA           -1.7574      0.973     -1.807      0.071      -3.664       0.149\n",
      "TAGR        3.738e-11   3.79e-11      0.985      0.324    -3.7e-11    1.12e-10\n",
      "DR            20.5210      2.743      7.480      0.000      15.144      25.898\n",
      "WKTA          -4.9171      2.429     -2.024      0.043      -9.678      -0.156\n",
      "CTA           -6.7206      1.708     -3.934      0.000     -10.068      -3.373\n",
      "CLA           -6.6835      2.378     -2.810      0.005     -11.345      -2.022\n",
      "CFOA           2.7174      1.772      1.534      0.125      -0.755       6.190\n",
      "CLCA           0.5781      2.178      0.265      0.791      -3.690       4.847\n",
      "NITA          -1.3517      6.213     -0.218      0.828     -13.529      10.825\n",
      "==============================================================================\n"
     ]
    }
   ],
   "source": [
    "##import the required modules and classes for logistic regression\n",
    "#Logistic Regression\n",
    "\n",
    "import statsmodels.api as sm\n",
    "import statsmodels.formula.api as smf\n",
    "\n",
    "\n",
    "# Define the logistic regression model\n",
    "model_formula = \"Bankrupt ~ ROAC + ROAA + ROAB + TRA + TAGR + DR + WKTA + CTA + CLA + CFOA + CLCA + NITA\"\n",
    "\n",
    "# Fit logistic regression model\n",
    "logit_model = smf.glm(formula=model_formula, data=bankrupt_train, family=sm.families.Binomial())\n",
    "\n",
    "logreg = logit_model.fit()\n",
    "\n",
    "# Display the summary of the logistic regression model\n",
    "print(logreg.summary())\n"
   ]
  },
  {
   "cell_type": "markdown",
   "id": "dd03c300-bef4-4113-9373-d43e2f78492a",
   "metadata": {},
   "source": [
    "# 2.2.1. [Graded question]\n",
    "\n",
    "Do any of the predictors appear to be statistically significant? \n",
    "The lower p-values indicate higher statistical significance. Assume that the threshold p-values is 0.05. Therefore, the predictors with p-values less than 0.05 are considered to be statistically significant.\n",
    "\n",
    "If so, which ones?\n",
    "DR, WKTA, and CTA are statistically significant predictors.\n",
    "\n",
    "Interpret the \n",
    "coffi\u000ecient estimates of thesignificant  feature.\n",
    "\n",
    "For a significant predictor DR, its coefficient is positive and it indicates a positive relationship with the target variable (Bankrupt), while the coefficients of the predictors WKTA and CTA are negative and suggest a negative relationship with the target variable. \n",
    "The magnitude of the coefficient of predictor DR also indicates the strength of its relationship with the target variable compared with the other two significant predictors.."
   ]
  },
  {
   "cell_type": "code",
   "execution_count": 14,
   "id": "509611a5",
   "metadata": {},
   "outputs": [
    {
     "name": "stdout",
     "output_type": "stream",
     "text": [
      "Confusion Matrix:\n",
      "[[5266  143]\n",
      " [  15   31]]\n",
      "\n",
      "Classification Report:\n",
      "              precision    recall  f1-score   support\n",
      "\n",
      "           0      0.997     0.974     0.985      5409\n",
      "           1      0.178     0.674     0.282        46\n",
      "\n",
      "    accuracy                          0.971      5455\n",
      "   macro avg      0.588     0.824     0.634      5455\n",
      "weighted avg      0.990     0.971     0.979      5455\n",
      "\n"
     ]
    }
   ],
   "source": [
    "#EDITED ADDED\n",
    "from sklearn.metrics import confusion_matrix, classification_report\n",
    "\n",
    "# Get the estimated probabilities\n",
    "yhat_logreg_probs = logreg.fittedvalues\n",
    "\n",
    "# Convert probabilities to binary class labels using a threshold of 0.5\n",
    "yhat = [1 if x > 0.5 else 0 for x in yhat_logreg_probs]\n",
    "y_train_check = [1 if x > 0.5 else 0 for x in y_train]\n",
    "\n",
    "# Print the confusion matrix\n",
    "conf_matrix = confusion_matrix(yhat, y_train_check)\n",
    "print(\"Confusion Matrix:\")\n",
    "print(conf_matrix)\n",
    "\n",
    "# Print the classification report\n",
    "class_report = classification_report(yhat, y_train_check, digits=3)\n",
    "print(\"\\nClassification Report:\")\n",
    "print(class_report)"
   ]
  },
  {
   "cell_type": "markdown",
   "id": "98a2e1e4-dd89-4a33-aed8-18d69783272b",
   "metadata": {},
   "source": [
    "# 2.2.2 [graded question]\n",
    "\n",
    "Compute the confusion matrix and the classifi\f",
    "cation report for your logistic regression model.\n",
    "Interpret the metrics.\n",
    "\n",
    "True Positives (TP): The model correctly predicted that a company did not go bankrupt in 5266 cases.\n",
    "\r\n",
    "True Negatives (TN): he model correctly predicted that a company went bankrupt in 31 cases.\n",
    ".\r\n",
    "False Positives (FP)These are cases where the model incorrectly predicted that a company went bankrupt when it did not.\n",
    ").\r\n",
    "False Negatives (FN)he model incorrectly predicted that a company did not go bankrupt when it did in 15 caseso\n",
    "\n",
    "Accuracy: (TP + TN) / (TP+FN+FP+TN) 5266 + 31 / 5266+15+143+31 = 5297/5455 = 0.9710357470210816\n",
    "The accuracy or the performance of the logistic regression classification model is 0.971. It indicates that the model is accurate 97.1% of the time.\n",
    "\n",
    "Precision: Precision quantifies the number of correct positive predictions made out of positive predictions made by the model. Precision = TP/(TP + FP)\n",
    "Precision for class 0 (Did not go bankrupt): 0.997 - This means that when the model predicted that a company did not go bankrupt, it is correct 99.7% of the time.\r\n",
    "Precision for class 1 Got bankrupt): 0.178 - This means that when the model predicts a company went bankrupt, it is correct 17.8% of the time.\n",
    "\n",
    "Recall (Sensitivity):\n",
    " The ratio of true positives to the total number of actual positives (TP / (TP + FN)). \n",
    "It measures the model's ability to identify all relevant instances.Recall for class 0 (Did not go bankrupt): 0.974 - This means that the model correctly identifies 97.4% of the companies that did not go bankrupt.\r\n",
    "Recall for class 1 Got bankrupt): 0.674 - This means that the model correctly identifies 67.4% of the companies that went bankrupt\n",
    "\n",
    "\n",
    "F1-score: The harmonic mean of precision and recall, providing a balance between the two metrics\n",
    "F1-score for class 0: 0.985 - The F1-score is the harmonic mean of precision and recall for class 0. It provides a balance between precision and recall.\r\n",
    "F1-score for class 1: 0.282 - The F1-score for class 1 is lower, indicating a trade-off between precision and recall.t.\n",
    "\n",
    "Support: The number of actual occurrences of each class in the test seSupport for class 0: 5409 - This is the actual number of companies that did not go bankrupt in the test set.\r\n",
    "Support for class 1: 46 - This is the actual number of companies that went bankrupt in the test set.\n",
    "tInterpretation:\r\n",
    "\r\n",
    "The model demonstrates high precision and recall for class 0 (companies that did not go bankrupt), indicating that it is effective in identifying non-bankrupt companies.\r\n",
    "However, the model has lower precision and recall for class 1 (companies that went bankrupt), suggesting room for improvement in identifying bankrupt companies.\r\n",
    "The F1-score for class 1 is relatively low, indicating that the trade-off between precision and recall for bankrupt companies might not be favorable.\r\n",
    "The macro average metrics provide an unweighted average, while the weighted average metrics consider the class distribution. The weighted averages indicate strong overall performance.\r\n",
    "The high accuracy suggests that the model correctly predicts the majority of instances, but this might be influenced by the class imbal\n",
    "\n",
    "ance.\r\n",
    "In summary, while the model performs well in identifying non-bankrupt companies, it has challenges in correctly identifying bankrupt co.\n",
    "              "
   ]
  },
  {
   "cell_type": "code",
   "execution_count": 15,
   "id": "07fe4174-dc1b-47b4-9ae0-23e93a0375de",
   "metadata": {},
   "outputs": [
    {
     "name": "stdout",
     "output_type": "stream",
     "text": [
      "[0.01852332 0.01171795 0.00320048 0.00050652 0.01025083 0.02765124\n",
      " 0.00321971 0.01693749 0.0829795  0.02034399]\n"
     ]
    }
   ],
   "source": [
    "predictions = logreg.predict()\n",
    "print(predictions[0:10])"
   ]
  },
  {
   "cell_type": "code",
   "execution_count": 16,
   "id": "10cef6e6-738d-4f07-a03c-434479605620",
   "metadata": {},
   "outputs": [],
   "source": [
    "x_test = pd.read_csv(\"x_test.csv\", index_col=0)\n",
    "y_test = pd.read_csv(\"y_test.csv\", index_col=0)\n",
    "x_train = pd.read_csv(\"x_train.csv\", index_col=0)\n",
    "y_train = pd.read_csv(\"y_train.csv\", index_col=0)\n",
    "# Get the estimated probabilities for the test set\n",
    "yhat_test_logreg_probs = logreg.predict(x_test)"
   ]
  },
  {
   "cell_type": "code",
   "execution_count": 17,
   "id": "0c5039d7-009d-4c61-866b-efe90db0de76",
   "metadata": {},
   "outputs": [],
   "source": [
    "# Convert probabilities to binary class labels using a threshold of 0.5\n",
    "yhat_test = [1 if x > 0.5 else 0 for x in yhat_test_logreg_probs]"
   ]
  },
  {
   "cell_type": "code",
   "execution_count": 18,
   "id": "412a8a7e",
   "metadata": {},
   "outputs": [
    {
     "name": "stdout",
     "output_type": "stream",
     "text": [
      "Confusion Matrix for Test Set:\n",
      "[[1306   39]\n",
      " [  12    7]]\n",
      "\n",
      "Classification Report for Test Set:\n",
      "              precision    recall  f1-score   support\n",
      "\n",
      "           0      0.991     0.971     0.981      1345\n",
      "           1      0.152     0.368     0.215        19\n",
      "\n",
      "    accuracy                          0.963      1364\n",
      "   macro avg      0.572     0.670     0.598      1364\n",
      "weighted avg      0.979     0.963     0.970      1364\n",
      "\n"
     ]
    }
   ],
   "source": [
    "\n",
    "# Print the confusion matrix for the test set\n",
    "conf_matrix_test = confusion_matrix(yhat_test, y_test)\n",
    "print(\"Confusion Matrix for Test Set:\")\n",
    "print(conf_matrix_test)\n",
    "\n",
    "# Print the classification report for the test set\n",
    "class_report_test = classification_report(yhat_test, y_test, digits=3)\n",
    "print(\"\\nClassification Report for Test Set:\")\n",
    "print(class_report_test)\n"
   ]
  },
  {
   "cell_type": "markdown",
   "id": "eaa41369-d830-4e99-902e-a48ae2f59be1",
   "metadata": {},
   "source": [
    "# 2.2.3. [graded question]\n",
    "\n",
    "Interpret the results. \n",
    "\n",
    "Interpretation:\r\n",
    "\r\n",
    "The model demonstrates high precision and recall for class 0 (companies that did not go bankrupt), indicating that it is effective in identifying non-bankrupt companies.\r\n",
    "However, the model has lower precision and recall for class 1 (companies that went bankrupt), suggesting room for improvement in identifying bankrupt companies.\r\n",
    "The F1-score for class 1 is relatively low, indicating that the trade-off between precision and recall for bankrupt companies might not be favorable.\r\n",
    "The macro average metrics provide an unweighted average, while the weighted average metrics consider the class distribution. The weighted averages indicate strong overall performance.\r\n",
    "The high accuracy suggests that the model correctly predicts the majority of instances, but this might be influenced by the class imbalance.\n",
    "\n",
    "\n",
    "Do you think \n",
    "is it appropriate to consider mainly the overall accuracy in an imbalanced da\n",
    "\n",
    "No, it is not appropriate to consider mainly the overall accuracy in an imbalanced data set. The reason is that accuracy alone can be misleading and does not provide a complete picture of how well a model is performing, especially when one class significantly outnumbers the other.\n",
    "\n",
    "a se \n",
    " If not \r\n",
    "which metrics are more r\n",
    "The choice of relevant metrics depends on the nature of the dataset and the specific goals of the application. In this case, detecting if a company did not go bankrupt or go bankrupt, we want to prioritize precision to minimize false positives since the cost of having false positives is high. We also consider the trade-offs between precision and recall based on the practical implications of false positives and false negatives in our application.elevat ?"
   ]
  },
  {
   "cell_type": "code",
   "execution_count": 19,
   "id": "8e078727-fe48-4757-b619-7ef399fcc109",
   "metadata": {},
   "outputs": [
    {
     "name": "stdout",
     "output_type": "stream",
     "text": [
      "[0.01852332 0.01171795 0.00320048 0.00050652 0.01025083 0.02765124\n",
      " 0.00321971 0.01693749 0.0829795  0.02034399]\n"
     ]
    }
   ],
   "source": [
    "predictions = logreg.predict()\n",
    "print(predictions[0:10])"
   ]
  },
  {
   "cell_type": "markdown",
   "id": "ab60f609-f894-4612-bb5b-0396344eb0db",
   "metadata": {},
   "source": [
    "# KNN"
   ]
  },
  {
   "cell_type": "code",
   "execution_count": 20,
   "id": "dc7db952-7541-4892-a2e9-3249fd57ba19",
   "metadata": {},
   "outputs": [],
   "source": [
    "x_train = scaler_x.fit_transform(x_train)\n",
    "y_train = scaler_y.fit_transform(y_train)\n",
    "\n",
    "x_test = scaler_x.transform(x_test)\n",
    "y_test = scaler_y.transform(y_test)"
   ]
  },
  {
   "cell_type": "code",
   "execution_count": 21,
   "id": "76cc602f",
   "metadata": {},
   "outputs": [],
   "source": [
    "# EDITED\n",
    "# K-NEAREST NEIGHBOUR\n",
    "\n",
    "from sklearn.neighbors import KNeighborsClassifier\n",
    "from sklearn.metrics import confusion_matrix, classification_report\n",
    "import numpy as np\n",
    "\n",
    "# Create a KNN classifier with K = 1\n",
    "neigh = KNeighborsClassifier(n_neighbors=1)\n"
   ]
  },
  {
   "cell_type": "code",
   "execution_count": 22,
   "id": "438a09c9-2e0e-4847-8d88-fed0a5b9517c",
   "metadata": {},
   "outputs": [
    {
     "name": "stdout",
     "output_type": "stream",
     "text": [
      "[[-0.18151668]\n",
      " [-0.18151668]\n",
      " [-0.18151668]\n",
      " [-0.18151668]\n",
      " [-0.18151668]\n",
      " [-0.18151668]\n",
      " [-0.18151668]\n",
      " [-0.18151668]\n",
      " [-0.18151668]\n",
      " [-0.18151668]]\n"
     ]
    }
   ],
   "source": [
    "print(y_train[0:10])"
   ]
  },
  {
   "cell_type": "code",
   "execution_count": 23,
   "id": "01d46dc2-1ba3-4136-902c-94a4797c6156",
   "metadata": {},
   "outputs": [],
   "source": [
    "y_train_binary = [1 if x > 0.5 else 0 for x in y_train]"
   ]
  },
  {
   "cell_type": "code",
   "execution_count": 24,
   "id": "c6b0c5f6-bcc2-48f0-9245-50a889b9a43a",
   "metadata": {},
   "outputs": [
    {
     "data": {
      "text/html": [
       "<style>#sk-container-id-1 {color: black;}#sk-container-id-1 pre{padding: 0;}#sk-container-id-1 div.sk-toggleable {background-color: white;}#sk-container-id-1 label.sk-toggleable__label {cursor: pointer;display: block;width: 100%;margin-bottom: 0;padding: 0.3em;box-sizing: border-box;text-align: center;}#sk-container-id-1 label.sk-toggleable__label-arrow:before {content: \"▸\";float: left;margin-right: 0.25em;color: #696969;}#sk-container-id-1 label.sk-toggleable__label-arrow:hover:before {color: black;}#sk-container-id-1 div.sk-estimator:hover label.sk-toggleable__label-arrow:before {color: black;}#sk-container-id-1 div.sk-toggleable__content {max-height: 0;max-width: 0;overflow: hidden;text-align: left;background-color: #f0f8ff;}#sk-container-id-1 div.sk-toggleable__content pre {margin: 0.2em;color: black;border-radius: 0.25em;background-color: #f0f8ff;}#sk-container-id-1 input.sk-toggleable__control:checked~div.sk-toggleable__content {max-height: 200px;max-width: 100%;overflow: auto;}#sk-container-id-1 input.sk-toggleable__control:checked~label.sk-toggleable__label-arrow:before {content: \"▾\";}#sk-container-id-1 div.sk-estimator input.sk-toggleable__control:checked~label.sk-toggleable__label {background-color: #d4ebff;}#sk-container-id-1 div.sk-label input.sk-toggleable__control:checked~label.sk-toggleable__label {background-color: #d4ebff;}#sk-container-id-1 input.sk-hidden--visually {border: 0;clip: rect(1px 1px 1px 1px);clip: rect(1px, 1px, 1px, 1px);height: 1px;margin: -1px;overflow: hidden;padding: 0;position: absolute;width: 1px;}#sk-container-id-1 div.sk-estimator {font-family: monospace;background-color: #f0f8ff;border: 1px dotted black;border-radius: 0.25em;box-sizing: border-box;margin-bottom: 0.5em;}#sk-container-id-1 div.sk-estimator:hover {background-color: #d4ebff;}#sk-container-id-1 div.sk-parallel-item::after {content: \"\";width: 100%;border-bottom: 1px solid gray;flex-grow: 1;}#sk-container-id-1 div.sk-label:hover label.sk-toggleable__label {background-color: #d4ebff;}#sk-container-id-1 div.sk-serial::before {content: \"\";position: absolute;border-left: 1px solid gray;box-sizing: border-box;top: 0;bottom: 0;left: 50%;z-index: 0;}#sk-container-id-1 div.sk-serial {display: flex;flex-direction: column;align-items: center;background-color: white;padding-right: 0.2em;padding-left: 0.2em;position: relative;}#sk-container-id-1 div.sk-item {position: relative;z-index: 1;}#sk-container-id-1 div.sk-parallel {display: flex;align-items: stretch;justify-content: center;background-color: white;position: relative;}#sk-container-id-1 div.sk-item::before, #sk-container-id-1 div.sk-parallel-item::before {content: \"\";position: absolute;border-left: 1px solid gray;box-sizing: border-box;top: 0;bottom: 0;left: 50%;z-index: -1;}#sk-container-id-1 div.sk-parallel-item {display: flex;flex-direction: column;z-index: 1;position: relative;background-color: white;}#sk-container-id-1 div.sk-parallel-item:first-child::after {align-self: flex-end;width: 50%;}#sk-container-id-1 div.sk-parallel-item:last-child::after {align-self: flex-start;width: 50%;}#sk-container-id-1 div.sk-parallel-item:only-child::after {width: 0;}#sk-container-id-1 div.sk-dashed-wrapped {border: 1px dashed gray;margin: 0 0.4em 0.5em 0.4em;box-sizing: border-box;padding-bottom: 0.4em;background-color: white;}#sk-container-id-1 div.sk-label label {font-family: monospace;font-weight: bold;display: inline-block;line-height: 1.2em;}#sk-container-id-1 div.sk-label-container {text-align: center;}#sk-container-id-1 div.sk-container {/* jupyter's `normalize.less` sets `[hidden] { display: none; }` but bootstrap.min.css set `[hidden] { display: none !important; }` so we also need the `!important` here to be able to override the default hidden behavior on the sphinx rendered scikit-learn.org. See: https://github.com/scikit-learn/scikit-learn/issues/21755 */display: inline-block !important;position: relative;}#sk-container-id-1 div.sk-text-repr-fallback {display: none;}</style><div id=\"sk-container-id-1\" class=\"sk-top-container\"><div class=\"sk-text-repr-fallback\"><pre>KNeighborsClassifier(n_neighbors=1)</pre><b>In a Jupyter environment, please rerun this cell to show the HTML representation or trust the notebook. <br />On GitHub, the HTML representation is unable to render, please try loading this page with nbviewer.org.</b></div><div class=\"sk-container\" hidden><div class=\"sk-item\"><div class=\"sk-estimator sk-toggleable\"><input class=\"sk-toggleable__control sk-hidden--visually\" id=\"sk-estimator-id-1\" type=\"checkbox\" checked><label for=\"sk-estimator-id-1\" class=\"sk-toggleable__label sk-toggleable__label-arrow\">KNeighborsClassifier</label><div class=\"sk-toggleable__content\"><pre>KNeighborsClassifier(n_neighbors=1)</pre></div></div></div></div></div>"
      ],
      "text/plain": [
       "KNeighborsClassifier(n_neighbors=1)"
      ]
     },
     "execution_count": 24,
     "metadata": {},
     "output_type": "execute_result"
    }
   ],
   "source": [
    "# Train the KNN model on the training set\n",
    "neigh.fit(x_train,np.ravel(y_train_binary))"
   ]
  },
  {
   "cell_type": "code",
   "execution_count": 25,
   "id": "96ef8cf6-2afe-4c33-bf38-7a0807221ccf",
   "metadata": {},
   "outputs": [],
   "source": [
    "# Make predictions on the test set\n",
    "yhat_knn=neigh.predict(x_test)"
   ]
  },
  {
   "cell_type": "code",
   "execution_count": 26,
   "id": "7efe4762-6707-41ab-948b-4968a161cbd5",
   "metadata": {},
   "outputs": [
    {
     "name": "stdout",
     "output_type": "stream",
     "text": [
      "[0 0 0 0 0 0 0 0 0 0]\n"
     ]
    }
   ],
   "source": [
    "print(yhat_knn[0:10])"
   ]
  },
  {
   "cell_type": "code",
   "execution_count": 27,
   "id": "be8360ee-cde4-475a-add1-f5937e4cc140",
   "metadata": {},
   "outputs": [],
   "source": [
    "y_test_binary = [1 if x > 0.5 else 0 for x in y_test]"
   ]
  },
  {
   "cell_type": "code",
   "execution_count": 28,
   "id": "03e84f86-e5bf-4fce-84f0-35d6b41da8c3",
   "metadata": {},
   "outputs": [
    {
     "name": "stdout",
     "output_type": "stream",
     "text": [
      "[[-0.18151668]\n",
      " [-0.18151668]\n",
      " [-0.18151668]\n",
      " [-0.18151668]\n",
      " [ 5.50913557]\n",
      " [-0.18151668]\n",
      " [-0.18151668]\n",
      " [-0.18151668]\n",
      " [-0.18151668]\n",
      " [-0.18151668]]\n"
     ]
    }
   ],
   "source": [
    "print(y_test[0:10])"
   ]
  },
  {
   "cell_type": "code",
   "execution_count": 29,
   "id": "0159cde5-2ae8-4e59-a848-8b6c1a1c7f68",
   "metadata": {},
   "outputs": [],
   "source": [
    "from sklearn.metrics import balanced_accuracy_score\n",
    "\n",
    "bal_acc = balanced_accuracy_score(y_test_binary,yhat_knn)"
   ]
  },
  {
   "cell_type": "code",
   "execution_count": 30,
   "id": "6f118c5f-c69e-43e2-9738-a4b26bdbfb74",
   "metadata": {},
   "outputs": [
    {
     "name": "stdout",
     "output_type": "stream",
     "text": [
      "0.621709441182292\n"
     ]
    }
   ],
   "source": [
    "print(bal_acc)"
   ]
  },
  {
   "cell_type": "code",
   "execution_count": 31,
   "id": "52aa3045-14d4-4512-9b27-2e8fa61cb657",
   "metadata": {},
   "outputs": [
    {
     "name": "stdout",
     "output_type": "stream",
     "text": [
      "[1, 2, 3, 4, 5, 6, 7, 8, 9, 10, 11, 12, 13, 14, 15, 16, 17, 18, 19, 20]\n"
     ]
    }
   ],
   "source": [
    "K = [i for i in range(1, 21)]\n",
    "print(K)"
   ]
  },
  {
   "cell_type": "code",
   "execution_count": 32,
   "id": "c1a1a3ff-138e-4560-b693-b46d7228e3a8",
   "metadata": {},
   "outputs": [],
   "source": [
    "bal_acc = []"
   ]
  },
  {
   "cell_type": "code",
   "execution_count": 33,
   "id": "2913b438-4771-44c0-ad5b-dc9d017b36f8",
   "metadata": {},
   "outputs": [],
   "source": [
    "for k in K:\n",
    "  neigh = KNeighborsClassifier(n_neighbors=k)\n",
    "  neigh.fit(x_train,np.ravel(y_train_binary))\n",
    "  yhat_knn = neigh.predict(x_test)\n",
    "  y_test_binary = [1 if x > 0.5 else 0 for x in y_test]\n",
    "  bal_acc.append(balanced_accuracy_score(y_test_binary,yhat_knn))\n"
   ]
  },
  {
   "cell_type": "code",
   "execution_count": 34,
   "id": "aee80535-b52e-416a-ba8d-ccfa8f1af0d4",
   "metadata": {},
   "outputs": [
    {
     "name": "stdout",
     "output_type": "stream",
     "text": [
      "[0 0 0 ... 0 0 0]\n"
     ]
    }
   ],
   "source": [
    "print(yhat_knn)"
   ]
  },
  {
   "cell_type": "code",
   "execution_count": 35,
   "id": "e5709d5d-ace9-46b7-b00e-95730c54f07c",
   "metadata": {},
   "outputs": [
    {
     "name": "stdout",
     "output_type": "stream",
     "text": [
      "[0.621709441182292, 0.5310912449693211, 0.5947911855908161, 0.5749488685095996, 0.616909678696312, 0.5846803457148513, 0.6161509533548856, 0.5633205779507818, 0.6165303160255987, 0.5966879989443822, 0.5959292736029558, 0.5850597083855644, 0.5850597083855644, 0.5524510127333905, 0.5741901431681731, 0.5640793032922082, 0.5625618526093554, 0.5633205779507818, 0.5625618526093554, 0.5524510127333905]\n"
     ]
    }
   ],
   "source": [
    "print(bal_acc)"
   ]
  },
  {
   "cell_type": "code",
   "execution_count": 36,
   "id": "51adcf6d-49a9-4437-8334-183b12e8ef1e",
   "metadata": {},
   "outputs": [
    {
     "name": "stdout",
     "output_type": "stream",
     "text": [
      "Maximum Balanced Accuracy Score: 0.621709441182292\n",
      "Index of Maximum Balance Accuracy Score: 0\n"
     ]
    }
   ],
   "source": [
    "max_value = max(bal_acc)\n",
    "max_index = bal_acc.index(max_value)\n",
    "\n",
    "print(\"Maximum Balanced Accuracy Score:\", max_value)\n",
    "print(\"Index of Maximum Balance Accuracy Score:\", max_index)"
   ]
  },
  {
   "cell_type": "code",
   "execution_count": 37,
   "id": "1c716558-2d42-482d-ac11-29f15d0080b2",
   "metadata": {},
   "outputs": [
    {
     "name": "stdout",
     "output_type": "stream",
     "text": [
      "[1, 2, 3, 4, 5, 6, 7, 8, 9, 10, 11, 12, 13, 14, 15, 16, 17, 18, 19, 20]\n"
     ]
    }
   ],
   "source": [
    "print(K)"
   ]
  },
  {
   "cell_type": "code",
   "execution_count": 38,
   "id": "771e7200-8d82-4e73-8815-33ad8cbe712a",
   "metadata": {},
   "outputs": [],
   "source": [
    "#we choose k=5 having the next highest value of balanced accuracy score \n",
    "k=5\n",
    "neigh = KNeighborsClassifier(n_neighbors=k)\n",
    "neigh.fit(x_train,np.ravel(y_train_binary))\n",
    "yhat_knn=neigh.predict(x_test)"
   ]
  },
  {
   "cell_type": "code",
   "execution_count": 39,
   "id": "e95a88f1-bff4-42c2-aa1a-705693cd4339",
   "metadata": {},
   "outputs": [
    {
     "name": "stdout",
     "output_type": "stream",
     "text": [
      "[[1311   35]\n",
      " [   7   11]]\n"
     ]
    }
   ],
   "source": [
    "print(confusion_matrix(yhat_knn, y_test_binary))"
   ]
  },
  {
   "cell_type": "code",
   "execution_count": 40,
   "id": "e0ec2c67-604f-4e52-abb0-33a3cc1390b7",
   "metadata": {},
   "outputs": [
    {
     "name": "stdout",
     "output_type": "stream",
     "text": [
      "              precision    recall  f1-score   support\n",
      "\n",
      "           0      0.995     0.974     0.984      1346\n",
      "           1      0.239     0.611     0.344        18\n",
      "\n",
      "    accuracy                          0.969      1364\n",
      "   macro avg      0.617     0.793     0.664      1364\n",
      "weighted avg      0.985     0.969     0.976      1364\n",
      "\n"
     ]
    }
   ],
   "source": [
    "print(classification_report(yhat_knn, y_test_binary,digits=3))"
   ]
  },
  {
   "cell_type": "markdown",
   "id": "4b15b118-2b8d-4ada-9077-02fad3b6f9b5",
   "metadata": {},
   "source": [
    "# 2.3.1. [graded question]\n",
    "What value of K would you choose? \n",
    "I would select the value of K with the highest balanced accuracy score which is K=1. However, this would not give an interesting outcome because K=1 indicates that we are only considering the nearest neighbor when making a classification decision and the KNN model is very flexible and can closely fit the training data, potentially capturing errors and outliers. However, this flexibility can lead to overfitting and sensitivity to outliers.\n",
    "\n",
    "Consequently, we select the next highest value of the balanced accuracy score for which K = 5 \n",
    "\n",
    "For this value \n",
    "of K calculate the performance indicators, confusion matrix and classi\f",
    "cation report, on the\r\n",
    "test set. Interpret the result\n",
    "\n",
    "INTERPRETATION\n",
    "The model demonstrates strong performance in correctly identifying companies that did not go bankrupt (class 0). This is reflected in high precision and recall for class 0.\r\n",
    "\r\n",
    "However, there is room for improvement in identifying companies that went bankrupt (class 1). The precision and recall for class 1 are lower, indicating that the model occasionally makes incorrect predictions for bankrupt companies.\r\n",
    "\r\n",
    "The F1-score for class 1 is relatively modest, suggesting that there is a trade-off between precision and recall for bankrupt companies. It implies that improving one of these metrics might come at the expense of the other.\r\n",
    "\r\n",
    "The macro and weighted averages provide a comprehensive view of the model's overall performance, and they show favorable results. However, the primary focus should be on enhancing the model's ability to identify companies that went bankrupt (class 1).\r\n",
    "\r\n",
    "While the model exhibits high overall accuracy, there is an opportunity to fine-tune the model. Adjusting the prediction threshold or exploring different values of K in the K-Nearest Neighbors (KNN) algorithm may help strike a better balance between precision and recall, particularly for the minority class (clss 1).\n",
    "\n",
    "s."
   ]
  },
  {
   "cell_type": "code",
   "execution_count": 41,
   "id": "ed55287e",
   "metadata": {},
   "outputs": [
    {
     "name": "stdout",
     "output_type": "stream",
     "text": [
      "Linear Discriminant Analysis (LDA):\n",
      "Confusion Matrix:\n",
      "[[1299   19]\n",
      " [  31   15]]\n",
      "Classification Report:\n",
      "              precision    recall  f1-score   support\n",
      "\n",
      "           0      0.977     0.986     0.981      1318\n",
      "           1      0.441     0.326     0.375        46\n",
      "\n",
      "    accuracy                          0.963      1364\n",
      "   macro avg      0.709     0.656     0.678      1364\n",
      "weighted avg      0.959     0.963     0.961      1364\n",
      "\n",
      "\n",
      "Quadratic Discriminant Analysis (QDA):\n",
      "Confusion Matrix:\n",
      "[[1280   38]\n",
      " [  30   16]]\n",
      "Classification Report:\n",
      "              precision    recall  f1-score   support\n",
      "\n",
      "           0      0.977     0.971     0.974      1318\n",
      "           1      0.296     0.348     0.320        46\n",
      "\n",
      "    accuracy                          0.950      1364\n",
      "   macro avg      0.637     0.659     0.647      1364\n",
      "weighted avg      0.954     0.950     0.952      1364\n",
      "\n",
      "[0.96810266 0.03189734]\n",
      "[[5.07499371e-01 5.61487295e-01 5.56092411e-01 1.17719099e-01\n",
      "  5.55001102e+09 1.11500340e-01 8.15420501e-01 1.25669967e-01\n",
      "  8.96077591e-02 5.93879112e-01 3.06814657e-02 8.09838677e-01]\n",
      " [4.21282047e-01 4.58457712e-01 4.65005880e-01 3.33512513e-02\n",
      "  4.96788333e+09 1.85968720e-01 7.49489244e-01 4.96204862e-02\n",
      "  1.39421993e-01 5.58209193e-01 6.24193244e-02 7.39513902e-01]]\n"
     ]
    }
   ],
   "source": [
    "# DISCRIMINANT ANALYSIS\n",
    "\n",
    "from sklearn.discriminant_analysis import LinearDiscriminantAnalysis, QuadraticDiscriminantAnalysis\n",
    "from sklearn.metrics import confusion_matrix, classification_report\n",
    "\n",
    "x_test = pd.read_csv(\"x_test.csv\", index_col=0)\n",
    "y_test = pd.read_csv(\"y_test.csv\", index_col=0)\n",
    "x_train = pd.read_csv(\"x_train.csv\", index_col=0)\n",
    "y_train = pd.read_csv(\"y_train.csv\", index_col=0)\n",
    "\n",
    "# Linear Discriminant Analysis (LDA)\n",
    "lda_model = LinearDiscriminantAnalysis()\n",
    "lda_model.fit(x_train, np.ravel(y_train))\n",
    "yhat_lda = lda_model.predict(x_test)\n",
    "\n",
    "# Quadratic Discriminant Analysis (QDA)\n",
    "qda_model = QuadraticDiscriminantAnalysis()\n",
    "qda_model.fit(x_train, np.ravel(y_train))\n",
    "yhat_qda = qda_model.predict(x_test)\n",
    "\n",
    "# Evaluate LDA\n",
    "conf_matrix_lda = confusion_matrix(y_test, yhat_lda)\n",
    "class_report_lda = classification_report(y_test, yhat_lda, digits=3)\n",
    "\n",
    "# Evaluate QDA\n",
    "conf_matrix_qda = confusion_matrix(y_test, yhat_qda)\n",
    "class_report_qda = classification_report(y_test, yhat_qda, digits=3)\n",
    "\n",
    "# Print the results\n",
    "print('Linear Discriminant Analysis (LDA):')\n",
    "print('Confusion Matrix:')\n",
    "print(conf_matrix_lda)\n",
    "print('Classification Report:')\n",
    "print(class_report_lda)\n",
    "\n",
    "print('\\nQuadratic Discriminant Analysis (QDA):')\n",
    "print('Confusion Matrix:')\n",
    "print(conf_matrix_qda)\n",
    "print('Classification Report:')\n",
    "print(class_report_qda)\n",
    "\n",
    "print(lda_model.priors_)\n",
    "print(lda_model.means_)\n"
   ]
  },
  {
   "cell_type": "markdown",
   "id": "f7dba2b2-332d-4dfa-bc23-e3a3849c7788",
   "metadata": {},
   "source": [
    "# 2.4.1 [graded question] Interpret the prior probabilities as well as the group means.\r\n",
    "Lda_model.priors_ : This array contains the prior probabilities of the classes in LDA which in this case are [0.96810266  0.03189734].\n",
    " This simply means that the prior probabilities for class 0 and class 1 are 0.96810266 and 0.03189734.\r\n",
    "Lda_model.means_: This array contains the means of each feature for each class. The rows correspond to the classes and the columns correspond to the features. The result for our given data  the code result aboves:02e-01]]\r\n",
    "\r\n",
    "This information is useful for understanding the distribution of the data within each class and the assumed class priors. It can provide insight into the model’s decision-making process.\r\n"
   ]
  },
  {
   "cell_type": "markdown",
   "id": "5df899c4-3e1b-4dca-b7ba-590e2bfb76a6",
   "metadata": {},
   "source": [
    "# 2.4.2. [graded question] Calculate the confusion matrix and the classi\f",
    "cation report on the test set\r\n",
    "for the model obtained with the LDA classi\f",
    "er. Discuss about the obtained metrics (speci\f",
    "city,\r\n",
    "sensitivity,precision, f1-score, etc.\n",
    "\n",
    "Metrics Interpretation:\r\n",
    "Accuracy: Accuracy measures the overall correctness of the model.\r\n",
    "Formula: (TP + TN) / (TP + TN + FP + FN)\r\n",
    "Value: 0.963 or 96.3%\r\n",
    "Precision (Positive Predictive Value): Precision measures the accuracy of the positive predictions.\r\n",
    "Formula: TP / (TP + FP)\r\n",
    "Value: 0.441 or 44.1% for class 1.\r\n",
    "Recall (Sensitivity or True Positive Rate): Recall measures the proportion of actual positives that were correctly predicted. \r\n",
    "Formula: TP / (TP + FN)\r\n",
    "Value: 0.326 or 32.6% for class 1.\r\n",
    "F1-Score: F1-Score is the harmonic mean of precision and recall.\r\n",
    "Formula: 2 * (Precision * Recall) / (Precision + Recall)\r\n",
    "Value: 0.375 or 37.5% for class 1.\r\n",
    " Interpretation:\r\n",
    "The model has high accuracy (96.3%), but accuracy can be misleading in imbalanced datasets.\r\n",
    "Precision for class 1 is relatively low (44.1%), indicating a significant number of false positives.\r\n",
    "Recall for class 1 is also relatively low (32.6%), indicating that the model misses a significant number of actual positive instances.\r\n",
    "The F1-score, which balances precision and recall, is also low for \n",
    "class 1 (37.5%).\r\n",
    "Conclusion:\r\n",
    "The model performs well in terms of overall accuracy but struggles to correctly identify instances of class 1, as evidenced by low precision, recall, and F1-score for that class. Depending on the specific use case and the cost associated with false positives and false negatives, further model tuning or exploring other algorithms may be necessary.\r\n",
    ")."
   ]
  },
  {
   "cell_type": "markdown",
   "id": "6df0a102-d41c-4938-8ebe-88cd988e5eb7",
   "metadata": {},
   "source": [
    "# 2.4.3\r\n",
    "The provided result is based on the evaluation of a Quadratic Discriminant Analysis (QDA) model. Let's discuss the obtained metrics:\r\n",
    " Confusion Matrix:\r\n",
    "[[1280   38]\r\n",
    " [ 30   16]\r\n",
    "True Positive (TP): 16; True Negative (TN): 1280; False Positive (FP): 38; False Negative (FN): 30\r\n",
    "\r\n",
    "Classification Report:\r\n",
    "`\r\n",
    "              precision    recall  f1-score   support\r\n",
    "\r\n",
    "           0      0.977     0.971     0.974      1318\r\n",
    "           1      0.296     0.348     0.320        46\r\n",
    "\r\n",
    "    accuracy                          0.950      1364\r\n",
    "   macro avg      0.637     0.659     0.647      1364\r\n",
    "weighted avg      0.954     0.950     0.952      1364\r\n",
    "\r\n",
    "Metrics Interpretation:\r\n",
    "Accuracy:\r\n",
    "Formula: (TP + TN) / (TP + TN + FP + FN)\r\n",
    "Value: 0.950 or 95.0%\r\n",
    "Precision (Positive Predictive Value):\r\n",
    "Formula: TP / (TP + FP)\r\n",
    "Value: 0.296 or 29.6% for class 1.\r\n",
    "Recall (Sensitivity or True Positive Rate):\r\n",
    "Formula: TP / (TP + FN)\r\n",
    "Value: 0.348 or 34.8% for class 1.\r\n",
    "F1-Score:\r\n",
    "Formula: 2 * (Precision * Recall) / (Precision + Recall)\r\n",
    "Value: 0.320 or 32.0% for class 1.\r\n",
    "Interpretation:\r\n",
    "The model has a high overall accuracy (95.0%). Precision for class 1 is relatively low (29.6%), indicating a significant number of false positives. Recall for class 1 is also relatively low (34.8%), indicating that the model misses a significant number of actual positive instances. The F1-score for class 1 is also low (32.0%).\r\n",
    "Conclusion:\r\n",
    "Similar to the LDA model, the QDA model struggles to correctly identify instances of class 1, as evidenced by low precision, recall, and F1-score for that class. Further model tuning or exploring other algorithms may be necessary to improve performance, especially if the specific use case has a preference or better identification of positive instances.\r\n"
   ]
  },
  {
   "cell_type": "code",
   "execution_count": 42,
   "id": "345733fc",
   "metadata": {},
   "outputs": [
    {
     "name": "stdout",
     "output_type": "stream",
     "text": [
      "Threshold: inf, FDR: 1.0000, TPR: 0.0000\n",
      "Threshold: 1.0000, FDR: 1.0000, TPR: 0.0000\n",
      "Threshold: 1.0000, FDR: 0.9565, TPR: 0.0435\n",
      "Threshold: 1.0000, FDR: 0.9565, TPR: 0.0435\n",
      "Threshold: 0.9981, FDR: 0.9130, TPR: 0.0870\n",
      "Threshold: 0.9891, FDR: 0.9130, TPR: 0.0870\n",
      "Threshold: 0.9877, FDR: 0.8913, TPR: 0.1087\n",
      "Threshold: 0.9864, FDR: 0.8913, TPR: 0.1087\n",
      "Threshold: 0.9803, FDR: 0.8696, TPR: 0.1304\n",
      "Threshold: 0.9420, FDR: 0.8696, TPR: 0.1304\n",
      "Threshold: 0.9264, FDR: 0.8478, TPR: 0.1522\n",
      "Threshold: 0.9139, FDR: 0.8478, TPR: 0.1522\n",
      "Threshold: 0.9045, FDR: 0.8261, TPR: 0.1739\n",
      "Threshold: 0.8955, FDR: 0.8261, TPR: 0.1739\n",
      "Threshold: 0.8637, FDR: 0.7826, TPR: 0.2174\n",
      "Threshold: 0.8378, FDR: 0.7826, TPR: 0.2174\n",
      "Threshold: 0.8230, FDR: 0.7609, TPR: 0.2391\n",
      "Threshold: 0.7654, FDR: 0.7609, TPR: 0.2391\n",
      "Threshold: 0.7523, FDR: 0.7391, TPR: 0.2609\n",
      "Threshold: 0.6555, FDR: 0.7391, TPR: 0.2609\n",
      "Threshold: 0.6175, FDR: 0.6957, TPR: 0.3043\n",
      "Threshold: 0.5933, FDR: 0.6957, TPR: 0.3043\n",
      "Threshold: 0.5170, FDR: 0.6739, TPR: 0.3261\n",
      "Threshold: 0.4212, FDR: 0.6739, TPR: 0.3261\n",
      "Threshold: 0.3481, FDR: 0.6522, TPR: 0.3478\n",
      "Threshold: 0.3179, FDR: 0.6522, TPR: 0.3478\n",
      "Threshold: 0.3158, FDR: 0.6304, TPR: 0.3696\n",
      "Threshold: 0.2766, FDR: 0.6304, TPR: 0.3696\n",
      "Threshold: 0.2535, FDR: 0.5435, TPR: 0.4565\n",
      "Threshold: 0.1564, FDR: 0.5435, TPR: 0.4565\n",
      "Threshold: 0.1401, FDR: 0.5217, TPR: 0.4783\n",
      "Threshold: 0.1375, FDR: 0.5217, TPR: 0.4783\n",
      "Threshold: 0.1239, FDR: 0.5000, TPR: 0.5000\n",
      "Threshold: 0.0965, FDR: 0.5000, TPR: 0.5000\n",
      "Threshold: 0.0946, FDR: 0.4783, TPR: 0.5217\n",
      "Threshold: 0.0877, FDR: 0.4783, TPR: 0.5217\n",
      "Threshold: 0.0865, FDR: 0.4565, TPR: 0.5435\n",
      "Threshold: 0.0860, FDR: 0.4565, TPR: 0.5435\n",
      "Threshold: 0.0829, FDR: 0.4348, TPR: 0.5652\n",
      "Threshold: 0.0735, FDR: 0.4348, TPR: 0.5652\n",
      "Threshold: 0.0729, FDR: 0.4130, TPR: 0.5870\n",
      "Threshold: 0.0711, FDR: 0.4130, TPR: 0.5870\n",
      "Threshold: 0.0703, FDR: 0.3913, TPR: 0.6087\n",
      "Threshold: 0.0586, FDR: 0.3913, TPR: 0.6087\n",
      "Threshold: 0.0586, FDR: 0.3696, TPR: 0.6304\n",
      "Threshold: 0.0534, FDR: 0.3696, TPR: 0.6304\n",
      "Threshold: 0.0506, FDR: 0.3478, TPR: 0.6522\n",
      "Threshold: 0.0473, FDR: 0.3478, TPR: 0.6522\n",
      "Threshold: 0.0459, FDR: 0.3261, TPR: 0.6739\n",
      "Threshold: 0.0401, FDR: 0.3261, TPR: 0.6739\n",
      "Threshold: 0.0396, FDR: 0.3043, TPR: 0.6957\n",
      "Threshold: 0.0386, FDR: 0.3043, TPR: 0.6957\n",
      "Threshold: 0.0363, FDR: 0.2826, TPR: 0.7174\n",
      "Threshold: 0.0346, FDR: 0.2826, TPR: 0.7174\n",
      "Threshold: 0.0340, FDR: 0.2609, TPR: 0.7391\n",
      "Threshold: 0.0339, FDR: 0.2609, TPR: 0.7391\n",
      "Threshold: 0.0329, FDR: 0.2174, TPR: 0.7826\n",
      "Threshold: 0.0167, FDR: 0.2174, TPR: 0.7826\n",
      "Threshold: 0.0165, FDR: 0.1957, TPR: 0.8043\n",
      "Threshold: 0.0141, FDR: 0.1957, TPR: 0.8043\n",
      "Threshold: 0.0140, FDR: 0.1739, TPR: 0.8261\n",
      "Threshold: 0.0138, FDR: 0.1739, TPR: 0.8261\n",
      "Threshold: 0.0138, FDR: 0.1522, TPR: 0.8478\n",
      "Threshold: 0.0105, FDR: 0.1522, TPR: 0.8478\n",
      "Threshold: 0.0104, FDR: 0.1304, TPR: 0.8696\n",
      "Threshold: 0.0068, FDR: 0.1304, TPR: 0.8696\n",
      "Threshold: 0.0067, FDR: 0.1087, TPR: 0.8913\n",
      "Threshold: 0.0066, FDR: 0.1087, TPR: 0.8913\n",
      "Threshold: 0.0066, FDR: 0.0870, TPR: 0.9130\n",
      "Threshold: 0.0045, FDR: 0.0870, TPR: 0.9130\n",
      "Threshold: 0.0044, FDR: 0.0652, TPR: 0.9348\n",
      "Threshold: 0.0043, FDR: 0.0652, TPR: 0.9348\n",
      "Threshold: 0.0043, FDR: 0.0435, TPR: 0.9565\n",
      "Threshold: 0.0032, FDR: 0.0435, TPR: 0.9565\n",
      "Threshold: 0.0032, FDR: 0.0217, TPR: 0.9783\n",
      "Threshold: 0.0017, FDR: 0.0217, TPR: 0.9783\n",
      "Threshold: 0.0016, FDR: 0.0000, TPR: 1.0000\n",
      "Threshold: 0.0000, FDR: 0.0000, TPR: 1.0000\n"
     ]
    },
    {
     "data": {
      "image/png": "[encoded data removed]",
      "text/plain": [
       "<Figure size 800x600 with 1 Axes>"
      ]
     },
     "metadata": {},
     "output_type": "display_data"
    },
    {
     "name": "stdout",
     "output_type": "stream",
     "text": [
      "Area Under the Curve (AUC): 0.93\n"
     ]
    }
   ],
   "source": [
    "# ROC (Receiver Operating Characteristic) Curve\n",
    "\n",
    "from sklearn.metrics import roc_curve, auc\n",
    "\n",
    "# Having lda_model as our trained Linear Discriminant Analysis (LDA) model\n",
    "lda_scores = lda_model.predict_proba(x_test)[:, 1]\n",
    "\n",
    "# Calculate ROC curve\n",
    "fpr, tpr, thresholds = roc_curve(y_test, lda_scores)\n",
    "\n",
    "# Calculate AUC\n",
    "roc_auc = auc(fpr, tpr)\n",
    "\n",
    "#ADDED CODE\n",
    "# Calculate False Discovery Rate (FDR)\n",
    "fdr = 1 - tpr\n",
    "\n",
    "# Print FDR and TPR\n",
    "for i, threshold in enumerate(thresholds):\n",
    "    print(f\"Threshold: {threshold:.4f}, FDR: {fdr[i]:.4f}, TPR: {tpr[i]:.4f}\")\n",
    "    #END OF ADD\n",
    "\n",
    "# Plot ROC curve (optional)\n",
    "import matplotlib.pyplot as plt\n",
    "\n",
    "plt.figure(figsize=(8, 6))\n",
    "plt.plot(fpr, tpr, color='darkorange', lw=2, label='ROC curve (AUC = {:.2f})'.format(roc_auc))\n",
    "plt.plot([0, 1], [0, 1], color='navy', lw=2, linestyle='--')\n",
    "plt.xlabel('False Positive Rate')\n",
    "plt.ylabel('True Positive Rate')\n",
    "plt.title('Receiver Operating Characteristic (ROC) Curve')\n",
    "plt.legend(loc='lower right')\n",
    "plt.show()\n",
    "\n",
    "# Display AUC\n",
    "print('Area Under the Curve (AUC): {:.2f}'.format(roc_auc))\n"
   ]
  },
  {
   "cell_type": "markdown",
   "id": "ba966060-e87a-4919-8230-395439c3d9d8",
   "metadata": {},
   "source": [
    "# 2.5.1 interpret the outputs of the roc_curve() function, namely fpr and tpr.\r",
    " Here's an interpretation of the outputs:\r\n",
    "Threshold: The threshold used to classify the instances into positive or negative classes.\r\n",
    "FDR (False Discovery Rate): The proportion of predicted positive instances that are negative. It is calculated as False Positives / (False Positives + True Positives).\r\n",
    "TPR (True Positive Rate): Also known as Sensitivity or Recall, it is the proportion of actual positive instances that are correctly predicted as positive. It is calculated as True Positives / (True Positives + False Negativ\n",
    "es).\r\n",
    "Observations:\r\n",
    "Threshold Selection: The threshold decreases from the top to the bottom, which means the model becomes more permissive in classifying instances as positive.\r\n",
    "Trade-off Between FDR and TPR: As the threshold decreases, FDR tends to decrease, and TPR tends to increase. This indicates a trade-off between precision (FDR) and recall (TPR). Lowering the threshold results in capturing more true positives but may also increase false positives.\r\n",
    "Imbalance Impact: The class imbalance is evident in the fact that even at very high thresholds, TPR is not zero, indicating that the model is still able to capture some positive instances.\r\n",
    "Optimal Threshold: The optimal threshold depends on the specific goals of your model. If you want to prioritize minimizing false positives, you might choose a higher threshold. If capturing as many positives as possible is crucial, you might choose a lower threshold.\r\n",
    "Overall, understanding this trade-off is crucial, and the choice of the threshold should align with the application and the importance of precision and recall in the specific context.\r\n",
    "Since the AUC (0.93) is closer to 1, this indicates better discriminatory power. \r\n"
   ]
  },
  {
   "cell_type": "code",
   "execution_count": 49,
   "id": "1216d643",
   "metadata": {},
   "outputs": [
    {
     "name": "stdout",
     "output_type": "stream",
     "text": [
      "AUC for LDA: 0.9251995777528534\n",
      "AUC for QDA: 0.8813831892854787\n",
      "AUC for Logistic Regression (statsmodels): 0.9381144025862638\n"
     ]
    },
    {
     "name": "stderr",
     "output_type": "stream",
     "text": [
      "C:\\Users\\User\\AppData\\Local\\Programs\\Python\\Python311\\Lib\\site-packages\\sklearn\\base.py:458: UserWarning: X has feature names, but KNeighborsClassifier was fitted without feature names\n",
      "  warnings.warn(\n"
     ]
    },
    {
     "name": "stdout",
     "output_type": "stream",
     "text": [
      "AUC for KNN: 0.5\n"
     ]
    }
   ],
   "source": [
    "from sklearn.metrics import roc_curve, auc\n",
    "\n",
    "# Having lda_model as our trained Linear Discriminant Analysis (LDA) model\n",
    "lda_scores = lda_model.predict_proba(x_test)[:, 1]\n",
    "\n",
    "# Calculate ROC curve\n",
    "fpr_lda, tpr_lda, thresholds_lda = roc_curve(y_test, lda_scores)\n",
    "\n",
    "# Calculate AUC\n",
    "roc_auc_lda = auc(fpr_lda, tpr_lda)\n",
    "print('AUC for LDA:', roc_auc_lda)\n",
    "\n",
    "# Having qda_model as our trained Quadratic Discriminant Analysis (QDA) model\n",
    "qda_scores = qda_model.predict_proba(x_test)[:, 1]\n",
    "\n",
    "# Calculate ROC curve\n",
    "fpr_qda, tpr_qda, thresholds_qda = roc_curve(y_test, qda_scores)\n",
    "\n",
    "# Calculate AUC\n",
    "roc_auc_qda = auc(fpr_qda, tpr_qda)\n",
    "print('AUC for QDA:', roc_auc_qda)\n",
    "\n",
    "# Having logreg_model as our trained logistic regression model from statsmodels\n",
    "\n",
    "# Get the predicted probabilities\n",
    "logit_probs = logreg.predict(x_test)\n",
    "\n",
    "# Calculate ROC curve\n",
    "fpr_logit, tpr_logit, thresholds_logit = roc_curve(y_test, logit_probs)\n",
    "\n",
    "# Calculate AUC\n",
    "roc_auc_logit = auc(fpr_logit, tpr_logit)\n",
    "print('AUC for Logistic Regression (statsmodels):', roc_auc_logit)\n",
    "\n",
    "# Having neigh as our trained KNN model with the chosen value of K\n",
    "knn_scores = neigh.predict_proba(x_test)[:, 1]\n",
    "\n",
    "# Calculate ROC curve\n",
    "fpr_knn, tpr_knn, thresholds_knn = roc_curve(y_test, knn_scores)\n",
    "\n",
    "# Calculate AUC\n",
    "roc_auc_knn = auc(fpr_knn, tpr_knn)\n",
    "print('AUC for KNN:', roc_auc_knn)\n",
    "\n",
    "\n"
   ]
  },
  {
   "cell_type": "markdown",
   "id": "e91be85f-ba66-4ff5-96e6-8af34d13979d",
   "metadata": {},
   "source": [
    "# 2.5.2\n",
    "Calculate the auc and plot the ROC curve for the 4 models LDA, QDA,\n",
    "logistic regression and KNN with the chosen value of K. According to the ROC curve which\n",
    "model would you choose?\n",
    "\n",
    "\n",
    "The AUC values for the 4 models are:\n",
    "AUC for LDA: 0.9251995777528534\n",
    "AUC for QDA: 0.8813831892854787\n",
    "AUC for Logistic Regression (statsmodels): 0.9381144025862638\n",
    "AUC for KNN: 0.7075938510259286\n",
    "\n",
    "The model with the highest AUC value performs better in terms of the trade-off between sensitivity and specificity. A higher AUC generally indicates a better-performing model. Given our computed AUC values, the LDA model would be the ideal choice.\n",
    " "
   ]
  },
  {
   "cell_type": "code",
   "execution_count": 51,
   "id": "b5f839e6",
   "metadata": {},
   "outputs": [
    {
     "name": "stderr",
     "output_type": "stream",
     "text": [
      "C:\\Users\\User\\AppData\\Local\\Programs\\Python\\Python311\\Lib\\site-packages\\sklearn\\utils\\validation.py:1183: DataConversionWarning: A column-vector y was passed when a 1d array was expected. Please change the shape of y to (n_samples, ), for example using ravel().\n",
      "  y = column_or_1d(y, warn=True)\n",
      "C:\\Users\\User\\AppData\\Local\\Programs\\Python\\Python311\\Lib\\site-packages\\sklearn\\base.py:458: UserWarning: X has feature names, but KNeighborsClassifier was fitted without feature names\n",
      "  warnings.warn(\n"
     ]
    },
    {
     "data": {
      "image/png": "[encoded data removed]",
      "text/plain": [
       "<Figure size 800x600 with 1 Axes>"
      ]
     },
     "metadata": {},
     "output_type": "display_data"
    }
   ],
   "source": [
    "from sklearn.metrics import roc_curve, auc\n",
    "import matplotlib.pyplot as plt\n",
    "from sklearn.linear_model import LogisticRegression\n",
    "\n",
    "# Having lda_model as our trained Linear Discriminant Analysis (LDA) model\n",
    "lda_scores = lda_model.predict_proba(x_test)[:, 1]\n",
    "fpr_lda, tpr_lda, thresholds_lda = roc_curve(y_test, lda_scores)\n",
    "roc_auc_lda = auc(fpr_lda, tpr_lda)\n",
    "\n",
    "# Having qda_model as our trained Quadratic Discriminant Analysis (QDA) model\n",
    "qda_scores = qda_model.predict_proba(x_test)[:, 1]\n",
    "fpr_qda, tpr_qda, thresholds_qda = roc_curve(y_test, qda_scores)\n",
    "roc_auc_qda = auc(fpr_qda, tpr_qda)\n",
    "\n",
    "# Having logreg_model as our trained logistic regression model from scikit-learn\n",
    "logreg_model = LogisticRegression()\n",
    "logreg_model.fit(x_train, y_train)\n",
    "logreg_scores = logreg_model.predict_proba(x_test)[:, 1]\n",
    "fpr_logreg, tpr_logreg, thresholds_logreg = roc_curve(y_test, logreg_scores)\n",
    "roc_auc_logreg = auc(fpr_logreg, tpr_logreg)\n",
    "\n",
    "# Having neigh as our trained KNN model with the chosen value of K\n",
    "knn_scores = neigh.predict_proba(x_test)[:, 1]\n",
    "fpr_knn, tpr_knn, thresholds_knn = roc_curve(y_test, knn_scores)\n",
    "roc_auc_knn = auc(fpr_knn, tpr_knn)\n",
    "\n",
    "# Plot ROC curves for all models\n",
    "plt.figure(figsize=(8, 6))\n",
    "plt.plot(fpr_lda, tpr_lda, color='darkorange', lw=2, label='ROC curve for LDA (AUC = {:.2f})'.format(roc_auc_lda))\n",
    "plt.plot(fpr_qda, tpr_qda, color='green', lw=2, label='ROC curve for QDA (AUC = {:.2f})'.format(roc_auc_qda))\n",
    "plt.plot(fpr_logreg, tpr_logreg, color='blue', lw=2, label='ROC curve for Logistic Regression (AUC = {:.2f})'.format(roc_auc_logreg))\n",
    "plt.plot(fpr_knn, tpr_knn, color='purple', lw=2, label='ROC curve for KNN (AUC = {:.2f})'.format(roc_auc_knn))\n",
    "plt.plot([0, 1], [0, 1], color='navy', lw=2, linestyle='--')  # Diagonal line (random classifier)\n",
    "\n",
    "# Set labels and title\n",
    "plt.xlabel('False Positive Rate')\n",
    "plt.ylabel('True Positive Rate')\n",
    "plt.title('Receiver Operating Characteristic (ROC) Curve for Multiple Models')\n",
    "plt.legend(loc='lower right')\n",
    "\n",
    "# Show the plot\n",
    "plt.show()\n"
   ]
  },
  {
   "cell_type": "markdown",
   "id": "2d4960ec-f75a-438e-96f0-232556cf2013",
   "metadata": {},
   "source": [
    "# 2.5.3\r\n",
    " In the ROC curve plot you provided, each curve represents the trade-off between true positive rate (sensitivity) and false positive rate (1-specificity) for different classification thresholds. The area under the ROC curve (AUC) is a measure of the model's ability to discriminate between the positive and negative classes. The larger the AUC, the model with the best performance is Linear Discriminant Analysis with an AUC value of 0.93\n",
    " .\r\n",
    "Now, let's discuss the ROC curves for each model:\r\n",
    "\r\n",
    "Linear Discriminant Analysis (LDA):\r\n",
    "AUC: The curve for LDA (dark orange) indicates good discrimination, and the AUC is approximately 0.93. This suggests that LDA is effective in distinguishing between the two classes.\r\n",
    "Quadratic Discriminant Analysis (QDA):\r\n",
    " AUC: The curve for QDA (green) has an AUC of around 0.88, indicating reasonable discrimination.\r\n",
    "Logistic Regression:\r\n",
    "AUC: The curve for logistic regression (blue) has an AUC of about 0.69, similar to LDA. Logistic regression is also effective in this context.\r\n",
    "K-Nearest Neighbos (KNN):\r\n",
    " AUC: The curve for KNN (purple) has an AUC of approximately 0.71. It performs reasonably well, but not as well as LDA or logistic regression.\r\n",
    "Conclusion:\r\n",
    "The ROC curves provide insights into the models' discrimination abilities, and the AUC values quantify this performance. LDA and logistic regression appear to be the most effective models in this scenario, based on the AUC values. The choice of the optimal classification threshold depends on the specific balance of sensitivity and specificity desired for the\n",
    "\n",
    " application.\r\n",
    "Advantages and Disadvantages of Dealing with Imbalanced Da\n",
    "ta\r\n",
    "Advantages:\r\n",
    "Flexibility: Adjusting the classification threshold allows you to tailor the model's behavior to meet specific requirements.\r\n",
    "Better Handling of Imbalance: By choosing an appropriate threshold, you can mitigate the impact of\n",
    " class imbalance.\r\n",
    "Disadvantages:\r\n",
    "Subjectivity: Selecting a threshold involves subjective decisions and depends on the application's context.\r\n",
    "Trade-offs: Adjusting the threshold often involves trade-offs between sensitivi\n",
    "\n",
    "ty and specificity.\r\n",
    "Recommendation:\r\n",
    "Depending on the application, you might choose a threshold that balances the costs of false positives and false negatives. The optimal threshold could be where the ROC curve intersects a line of equal misclassification cost or based on specific business considerations.\r\n"
   ]
  },
  {
   "cell_type": "code",
   "execution_count": null,
   "id": "f5be460f-87a1-4baa-8127-288bcbd9e2c5",
   "metadata": {},
   "outputs": [],
   "source": []
  }
 ],
 "metadata": {
  "kernelspec": {
   "display_name": "Python 3 (ipykernel)",
   "language": "python",
   "name": "python3"
  },
  "language_info": {
   "codemirror_mode": {
    "name": "ipython",
    "version": 3
   },
   "file_extension": ".py",
   "mimetype": "text/x-python",
   "name": "python",
   "nbconvert_exporter": "python",
   "pygments_lexer": "ipython3",
   "version": "3.11.5"
  }
 },
 "nbformat": 4,
 "nbformat_minor": 5
}
